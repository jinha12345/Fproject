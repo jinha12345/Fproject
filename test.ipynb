{
 "cells": [
  {
   "cell_type": "code",
   "execution_count": 1,
   "metadata": {},
   "outputs": [
    {
     "name": "stdout",
     "output_type": "stream",
     "text": [
      "Collecting pillow\n",
      "  Downloading pillow-11.1.0-cp39-cp39-win_amd64.whl.metadata (9.3 kB)\n",
      "Downloading pillow-11.1.0-cp39-cp39-win_amd64.whl (2.6 MB)\n",
      "   ---------------------------------------- 0.0/2.6 MB ? eta -:--:--\n",
      "   ---------------------------------------- 0.0/2.6 MB ? eta -:--:--\n",
      "    --------------------------------------- 0.0/2.6 MB 991.0 kB/s eta 0:00:03\n",
      "   ---- ----------------------------------- 0.3/2.6 MB 3.9 MB/s eta 0:00:01\n",
      "   ----------- ---------------------------- 0.7/2.6 MB 6.6 MB/s eta 0:00:01\n",
      "   ----------------- ---------------------- 1.1/2.6 MB 8.1 MB/s eta 0:00:01\n",
      "   ----------------------- ---------------- 1.5/2.6 MB 8.9 MB/s eta 0:00:01\n",
      "   ----------------------------- ---------- 2.0/2.6 MB 8.9 MB/s eta 0:00:01\n",
      "   ------------------------------------ --- 2.4/2.6 MB 9.4 MB/s eta 0:00:01\n",
      "   ---------------------------------------- 2.6/2.6 MB 9.3 MB/s eta 0:00:00\n",
      "Installing collected packages: pillow\n",
      "Successfully installed pillow-11.1.0\n"
     ]
    }
   ],
   "source": [
    "!pip install pillow"
   ]
  },
  {
   "cell_type": "code",
   "execution_count": 3,
   "metadata": {},
   "outputs": [
    {
     "ename": "PermissionError",
     "evalue": "[Errno 13] Permission denied: './'",
     "output_type": "error",
     "traceback": [
      "\u001b[1;31m---------------------------------------------------------------------------\u001b[0m",
      "\u001b[1;31mPermissionError\u001b[0m                           Traceback (most recent call last)",
      "Cell \u001b[1;32mIn[3], line 4\u001b[0m\n\u001b[0;32m      2\u001b[0m enccode \u001b[38;5;241m=\u001b[39m \u001b[38;5;124m\"\u001b[39m\u001b[38;5;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\u001b[39m\u001b[38;5;124m\"\u001b[39m\n\u001b[0;32m      3\u001b[0m key \u001b[38;5;241m=\u001b[39m \u001b[38;5;124m\"\u001b[39m\u001b[38;5;124mjinha12345\u001b[39m\u001b[38;5;124m\"\u001b[39m\n\u001b[1;32m----> 4\u001b[0m \u001b[43mdecrypt_string_to_file\u001b[49m\u001b[43m(\u001b[49m\u001b[43menccode\u001b[49m\u001b[43m,\u001b[49m\u001b[43m \u001b[49m\u001b[38;5;124;43m\"\u001b[39;49m\u001b[38;5;124;43mjinha12345\u001b[39;49m\u001b[38;5;124;43m\"\u001b[39;49m\u001b[43m,\u001b[49m\u001b[43m \u001b[49m\u001b[38;5;124;43m\"\u001b[39;49m\u001b[38;5;124;43m./\u001b[39;49m\u001b[38;5;124;43m\"\u001b[39;49m\u001b[43m)\u001b[49m\n",
      "File \u001b[1;32mc:\\Users\\JinhaChang\\Desktop\\Fproject\\encdec.py:59\u001b[0m, in \u001b[0;36mdecrypt_string_to_file\u001b[1;34m(encrypted_string, key_str, output_file_path)\u001b[0m\n\u001b[0;32m     56\u001b[0m file_data \u001b[38;5;241m=\u001b[39m unpadder\u001b[38;5;241m.\u001b[39mupdate(padded_data) \u001b[38;5;241m+\u001b[39m unpadder\u001b[38;5;241m.\u001b[39mfinalize()\n\u001b[0;32m     58\u001b[0m \u001b[38;5;66;03m# 복호화된 데이터를 파일에 저장\u001b[39;00m\n\u001b[1;32m---> 59\u001b[0m \u001b[38;5;28;01mwith\u001b[39;00m \u001b[38;5;28;43mopen\u001b[39;49m\u001b[43m(\u001b[49m\u001b[43moutput_file_path\u001b[49m\u001b[43m,\u001b[49m\u001b[43m \u001b[49m\u001b[38;5;124;43m'\u001b[39;49m\u001b[38;5;124;43mwb\u001b[39;49m\u001b[38;5;124;43m'\u001b[39;49m\u001b[43m)\u001b[49m \u001b[38;5;28;01mas\u001b[39;00m f:\n\u001b[0;32m     60\u001b[0m     f\u001b[38;5;241m.\u001b[39mwrite(file_data)\n",
      "\u001b[1;31mPermissionError\u001b[0m: [Errno 13] Permission denied: './'"
     ]
    }
   ],
   "source": [
    "from encdec import *\n",
    "enccode = \"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\"\n",
    "key = \"jinha12345\"\n",
    "decrypt_string_to_file(enccode, \"jinha12345\", \"./\")"
   ]
  },
  {
   "cell_type": "code",
   "execution_count": null,
   "metadata": {},
   "outputs": [],
   "source": []
  },
  {
   "cell_type": "code",
   "execution_count": null,
   "metadata": {},
   "outputs": [],
   "source": []
  }
 ],
 "metadata": {
  "kernelspec": {
   "display_name": "FProject",
   "language": "python",
   "name": "python3"
  },
  "language_info": {
   "codemirror_mode": {
    "name": "ipython",
    "version": 3
   },
   "file_extension": ".py",
   "mimetype": "text/x-python",
   "name": "python",
   "nbconvert_exporter": "python",
   "pygments_lexer": "ipython3",
   "version": "3.9.19"
  }
 },
 "nbformat": 4,
 "nbformat_minor": 2
}
