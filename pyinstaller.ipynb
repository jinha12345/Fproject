{
 "cells": [
  {
   "cell_type": "code",
   "execution_count": 1,
   "metadata": {},
   "outputs": [
    {
     "name": "stdout",
     "output_type": "stream",
     "text": [
      "257 INFO: PyInstaller: 6.3.0\n",
      "258 INFO: Python: 3.9.6\n",
      "272 INFO: Platform: macOS-14.1.1-x86_64-i386-64bit\n",
      "280 INFO: Extending PYTHONPATH with paths\n",
      "['/Users/jinhachang/Desktop/Fproject/Fproject']\n",
      "571 INFO: Appending 'datas' from .spec\n",
      "574 INFO: checking Analysis\n",
      "598 INFO: Building because /Users/jinhachang/Desktop/Fproject/Fproject/templates/login.html changed\n",
      "598 INFO: Initializing module dependency graph...\n",
      "598 INFO: Caching module graph hooks...\n",
      "618 INFO: Analyzing base_library.zip ...\n",
      "1089 INFO: Loading module hook 'hook-heapq.py' from '/Users/jinhachang/Library/Python/3.9/lib/python/site-packages/PyInstaller/hooks'...\n",
      "1489 INFO: Loading module hook 'hook-encodings.py' from '/Users/jinhachang/Library/Python/3.9/lib/python/site-packages/PyInstaller/hooks'...\n",
      "2599 INFO: Loading module hook 'hook-pickle.py' from '/Users/jinhachang/Library/Python/3.9/lib/python/site-packages/PyInstaller/hooks'...\n",
      "3653 INFO: Caching module dependency graph...\n",
      "3761 INFO: Running Analysis Analysis-00.toc\n",
      "3762 INFO: Looking for Python shared library...\n",
      "3767 INFO: Using Python shared library: /Library/Developer/CommandLineTools/Library/Frameworks/Python3.framework/Versions/3.9/Python3\n",
      "3767 INFO: Analyzing /Users/jinhachang/Desktop/Fproject/Fproject/app.py\n",
      "4777 INFO: Loading module hook 'hook-platform.py' from '/Users/jinhachang/Library/Python/3.9/lib/python/site-packages/PyInstaller/hooks'...\n",
      "4803 INFO: Loading module hook 'hook-xml.py' from '/Users/jinhachang/Library/Python/3.9/lib/python/site-packages/PyInstaller/hooks'...\n",
      "4964 INFO: Loading module hook 'hook-sysconfig.py' from '/Users/jinhachang/Library/Python/3.9/lib/python/site-packages/PyInstaller/hooks'...\n",
      "4978 INFO: Processing pre-safe import module hook distutils from '/Users/jinhachang/Library/Python/3.9/lib/python/site-packages/PyInstaller/hooks/pre_safe_import_module/hook-distutils.py'.\n",
      "4979 INFO: Processing pre-find module path hook distutils from '/Users/jinhachang/Library/Python/3.9/lib/python/site-packages/PyInstaller/hooks/pre_find_module_path/hook-distutils.py'.\n",
      "5266 INFO: Loading module hook 'hook-distutils.py' from '/Users/jinhachang/Library/Python/3.9/lib/python/site-packages/PyInstaller/hooks'...\n",
      "5657 INFO: Loading module hook 'hook-difflib.py' from '/Users/jinhachang/Library/Python/3.9/lib/python/site-packages/PyInstaller/hooks'...\n",
      "5743 INFO: Loading module hook 'hook-importlib_metadata.py' from '/Users/jinhachang/Library/Python/3.9/lib/python/site-packages/PyInstaller/hooks'...\n",
      "5940 INFO: Loading module hook 'hook-jinja2.py' from '/Users/jinhachang/Library/Python/3.9/lib/python/site-packages/_pyinstaller_hooks_contrib/hooks/stdhooks'...\n",
      "6437 INFO: Loading module hook 'hook-multiprocessing.util.py' from '/Users/jinhachang/Library/Python/3.9/lib/python/site-packages/PyInstaller/hooks'...\n",
      "7165 INFO: Loading module hook 'hook-httplib2.py' from '/Users/jinhachang/Library/Python/3.9/lib/python/site-packages/_pyinstaller_hooks_contrib/hooks/stdhooks'...\n",
      "7624 INFO: Loading module hook 'hook-certifi.py' from '/Users/jinhachang/Library/Python/3.9/lib/python/site-packages/_pyinstaller_hooks_contrib/hooks/stdhooks'...\n",
      "7674 INFO: Loading module hook 'hook-google.api_core.py' from '/Users/jinhachang/Library/Python/3.9/lib/python/site-packages/_pyinstaller_hooks_contrib/hooks/stdhooks'...\n",
      "8792 INFO: Loading module hook 'hook-charset_normalizer.py' from '/Users/jinhachang/Library/Python/3.9/lib/python/site-packages/_pyinstaller_hooks_contrib/hooks/stdhooks'...\n",
      "9140 INFO: Loading module hook 'hook-pycparser.py' from '/Users/jinhachang/Library/Python/3.9/lib/python/site-packages/_pyinstaller_hooks_contrib/hooks/stdhooks'...\n",
      "9566 INFO: Loading module hook 'hook-setuptools.py' from '/Users/jinhachang/Library/Python/3.9/lib/python/site-packages/PyInstaller/hooks'...\n",
      "10615 INFO: Loading module hook 'hook-distutils.util.py' from '/Users/jinhachang/Library/Python/3.9/lib/python/site-packages/PyInstaller/hooks'...\n",
      "10872 INFO: Loading module hook 'hook-packaging.py' from '/Users/jinhachang/Library/Python/3.9/lib/python/site-packages/PyInstaller/hooks'...\n",
      "11422 INFO: Loading module hook 'hook-pkg_resources.py' from '/Users/jinhachang/Library/Python/3.9/lib/python/site-packages/PyInstaller/hooks'...\n",
      "12685 INFO: Processing pre-safe import module hook six.moves from '/Users/jinhachang/Library/Python/3.9/lib/python/site-packages/PyInstaller/hooks/pre_safe_import_module/hook-six.moves.py'.\n",
      "12878 INFO: Loading module hook 'hook-googleapiclient.model.py' from '/Users/jinhachang/Library/Python/3.9/lib/python/site-packages/_pyinstaller_hooks_contrib/hooks/stdhooks'...\n",
      "13130 INFO: Loading module hook 'hook-openpyxl.py' from '/Users/jinhachang/Library/Python/3.9/lib/python/site-packages/_pyinstaller_hooks_contrib/hooks/stdhooks'...\n",
      "13173 INFO: Loading module hook 'hook-numpy.py' from '/Users/jinhachang/Library/Python/3.9/lib/python/site-packages/numpy/_pyinstaller'...\n",
      "13773 INFO: Loading module hook 'hook-psutil.py' from '/Users/jinhachang/Library/Python/3.9/lib/python/site-packages/_pyinstaller_hooks_contrib/hooks/stdhooks'...\n",
      "14878 INFO: Loading module hook 'hook-xml.etree.cElementTree.py' from '/Users/jinhachang/Library/Python/3.9/lib/python/site-packages/PyInstaller/hooks'...\n",
      "16749 INFO: Analyzing hidden import 'engineio.async_drivers.threading'\n",
      "16752 INFO: Processing module hooks...\n",
      "17100 INFO: Loading module hook 'hook-platformdirs.py' from '/Users/jinhachang/Library/Python/3.9/lib/python/site-packages/_pyinstaller_hooks_contrib/hooks/stdhooks'...\n",
      "17186 INFO: Loading module hook 'hook-setuptools.msvc.py' from '/Users/jinhachang/Library/Python/3.9/lib/python/site-packages/PyInstaller/hooks'...\n",
      "17808 INFO: Loading module hook 'hook-setuptools._distutils.command.check.py' from '/Users/jinhachang/Library/Python/3.9/lib/python/site-packages/PyInstaller/hooks'...\n",
      "18064 INFO: Performing binary vs. data reclassification (529 entries)\n",
      "18314 INFO: Looking for ctypes DLLs\n",
      "18345 INFO: Analyzing run-time hooks ...\n",
      "18354 INFO: Including run-time hook '/Users/jinhachang/Library/Python/3.9/lib/python/site-packages/PyInstaller/hooks/rthooks/pyi_rth_inspect.py'\n",
      "18363 INFO: Including run-time hook '/Users/jinhachang/Library/Python/3.9/lib/python/site-packages/PyInstaller/hooks/rthooks/pyi_rth_setuptools.py'\n",
      "18365 INFO: Including run-time hook '/Users/jinhachang/Library/Python/3.9/lib/python/site-packages/PyInstaller/hooks/rthooks/pyi_rth_multiprocessing.py'\n",
      "18368 INFO: Including run-time hook '/Users/jinhachang/Library/Python/3.9/lib/python/site-packages/PyInstaller/hooks/rthooks/pyi_rth_pkgres.py'\n",
      "18373 INFO: Including run-time hook '/Users/jinhachang/Library/Python/3.9/lib/python/site-packages/PyInstaller/hooks/rthooks/pyi_rth_pkgutil.py'\n",
      "18375 INFO: Processing pre-find module path hook _pyi_rth_utils from '/Users/jinhachang/Library/Python/3.9/lib/python/site-packages/PyInstaller/hooks/pre_find_module_path/hook-_pyi_rth_utils.py'.\n",
      "18377 INFO: Loading module hook 'hook-_pyi_rth_utils.py' from '/Users/jinhachang/Library/Python/3.9/lib/python/site-packages/PyInstaller/hooks'...\n",
      "18428 INFO: Looking for dynamic libraries\n",
      "18704 INFO: Warnings written to /Users/jinhachang/Desktop/Fproject/Fproject/build/app/warn-app.txt\n",
      "18815 INFO: Graph cross-reference written to /Users/jinhachang/Desktop/Fproject/Fproject/build/app/xref-app.html\n",
      "19040 INFO: checking PYZ\n",
      "19066 INFO: EXE target arch: x86_64\n",
      "19066 INFO: Code signing identity: None\n",
      "19081 INFO: checking PKG\n",
      "19088 INFO: Building because toc changed\n",
      "19088 INFO: Building PKG (CArchive) PHOretail.pkg\n",
      "32487 INFO: Building PKG (CArchive) PHOretail.pkg completed successfully.\n",
      "32513 INFO: Bootloader /Users/jinhachang/Library/Python/3.9/lib/python/site-packages/PyInstaller/bootloader/Darwin-64bit/run\n",
      "32513 INFO: checking EXE\n",
      "32520 INFO: Building because toc changed\n",
      "32521 INFO: Building EXE from EXE-00.toc\n",
      "32521 INFO: Copying bootloader EXE to /Users/jinhachang/Desktop/Fproject/Fproject/dist/PHOretail\n",
      "32522 INFO: Converting EXE to target arch (x86_64)\n",
      "32546 INFO: Removing signature(s) from EXE\n",
      "32575 INFO: Appending PKG archive to EXE\n",
      "32627 INFO: Fixing EXE headers for code signing\n",
      "32638 INFO: Re-signing the EXE\n",
      "32929 INFO: Building EXE from EXE-00.toc completed successfully.\n"
     ]
    }
   ],
   "source": [
    "!pyinstaller app.spec"
   ]
  },
  {
   "cell_type": "code",
   "execution_count": null,
   "metadata": {},
   "outputs": [],
   "source": []
  }
 ],
 "metadata": {
  "kernelspec": {
   "display_name": "Python 3",
   "language": "python",
   "name": "python3"
  },
  "language_info": {
   "codemirror_mode": {
    "name": "ipython",
    "version": 3
   },
   "file_extension": ".py",
   "mimetype": "text/x-python",
   "name": "python",
   "nbconvert_exporter": "python",
   "pygments_lexer": "ipython3",
   "version": "3.9.6"
  }
 },
 "nbformat": 4,
 "nbformat_minor": 2
}
